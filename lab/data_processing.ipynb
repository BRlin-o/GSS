{
 "cells": [
  {
   "cell_type": "code",
   "execution_count": 6,
   "metadata": {},
   "outputs": [],
   "source": [
    "import os, json\n",
    "import markdown\n",
    "from pathlib import Path\n",
    "from langchain_text_splitters import MarkdownHeaderTextSplitter\n",
    "\n",
    "OUTPUT_DIR = Path(\"./output\")\n",
    "os.makedirs(OUTPUT_DIR, exist_ok=True)\n",
    "\n",
    "document_mk_file = \"../finish/JEGO.md\"\n",
    "car_model = Path(document_mk_file).stem.split(\"(\")[0]\n",
    "\n",
    "with open(document_mk_file, \"r\", encoding=\"utf-8\") as f:\n",
    "    markdown_document = f.read()\n",
    "\n",
    "headers_to_split_on = [\n",
    "    (\"#\", \"#\"),\n",
    "    (\"##\", \"##\"),\n",
    "    (\"###\", \"###\"),\n",
    "    (\"####\", \"####\"),\n",
    "    (\"#####\", \"#####\"),\n",
    "]"
   ]
  },
  {
   "cell_type": "code",
   "execution_count": 7,
   "metadata": {},
   "outputs": [
    {
     "data": {
      "text/plain": [
       "[Document(page_content='# Gogoro Jego  \\n發佈日期:2024.02.29 適用車款:\\nJEGO\\niQ System® 版本:6.8 以後 Gogoro® App 版本:3.3 以後 製造商:睿能創意股份有限公司 地址:桃園市龜山區頂湖路 33 號 電話:03-273-0900 **客服中心電話:**0800-365-996 Copyright© 2021 睿能創意股份有限公司 **著作權所有,並保留一切權利。本車主手冊中任何部分未經睿能創意股份有限公司**\\n事前書面同意,不得以任何形式轉載、複製或拷貝。', metadata={'#': 'Gogoro Jego'}),\n",
       " Document(page_content='## 目錄\\n###### 2\\n| 目錄                                             |    |\\n|--------------------------------------------------|----|\\n| 1. 在您上路之前                                  | 3  |\\n| 1.1 如何使用本手冊                               | 3  |\\n| 1.2 安全提醒                                     | 4  |\\n| 1.3 每次騎乘前應檢查項目                         | 5  |\\n| 2. 認識您的 Smartscooter® 智慧電動機車           | 6  |\\n| 2.1 JEGO 系列各部位名稱                          | 6  |\\n| 2.2 左把手                                       | 7  |\\n| 2.3 儀表板                                       | 8  |\\n| 3. 準備上路                                      | 9  |\\n| 3.1 開啟系統電源並解鎖龍頭                       | 9  |\\n| 3.2 關閉系統電源並上鎖龍頭                       | 9  |\\n| 3.3 開啟座墊下置物箱                             | 9  |\\n| 4. 上路騎乘                                      | 9  |\\n| 4.1 取車及架車                                   | 10 |\\n| 4.2 啟動及關閉馬達                               | 11 |\\n| 4.2.1 啟動馬達                                   | 11 |\\n| 4.2.2 關閉馬達                                   | 11 |\\n| 4.3 前進及後退                                   | 12 |\\n| 4.3.1 電子油門                                   | 12 |\\n| 4.3.2 電子倒車油門                               | 12 |\\n| 4.4 減速及停止                                   | 13 |\\n| 4.4.1 SBS 同步煞車系統                           | 13 |\\n| 4.5 低電量模式                                   | 13 |\\n| 5. 補充電力                                      | 14 |\\n| 5.1 在 GoStation® 電池交換站交換電池             | 14 |\\n| 5.1.1 用 Gogoro® App 尋找站點                    | 14 |\\n| 5.1.2 用 GoStation® 電池交換站的螢幕尋找其他站點 | 15 |\\n| 5.1.3 交換電池                                   | 16 |\\n| 5.1.4 身心障礙電池交換服務                       | 18 |\\n| 6. 保養維護                                      | 19 |\\n| 6.1 日常清潔與維護                               | 19 |\\n| 6.2 JEGO 系列定期檢查與保養週期                  | 20 |\\n| 6.3 服務據點                                     | 20 |\\n| 7. 附錄:其他依法令應聲明事項                    | 21 |\\n| 7.1 NCC 國家通訊傳播委員會                       | 21 |\\n| 7.2 行政院環保署                                 | 21 |\\n| 7.3 經濟部能源局                                 | 21 |  \\n2', metadata={'#': 'Gogoro Jego', '##': '目錄'}),\n",
       " Document(page_content='## 1. **在您上路之前**\\n###### 3\\n歡迎加入 Gogoro **車主的行列!我們將帶領您正確與安全地使用** Smartscooter® **智慧電動機**\\n車的每個功能。為了確保您的行車安全,騎乘前請務必詳細閱**讀本手冊,並確認自己隨時符合** 下列要件:\\n- **持有政府所核發且仍有效的本車種駕駛執照。**\\n- **具備安全及正確的騎乘技巧及生理及心理狀況。**\\n- **完全了解** Smartscooter® **智慧電動機車的操作方法及應變措施。**\\n- 完全了解本手冊的各項資訊,包括但不限於相關說**明、注意事項及警告資訊等。**\\n任何操作與保養的問題,請洽 Gogoro **客服中心(**0800-365-996**)。祝您擁有安全愉快的騎乘**\\n體驗!', metadata={'#': 'Gogoro Jego', '##': '1. **在您上路之前**'}),\n",
       " Document(page_content='### 1.1 **如何使用本手冊**\\n###### 3  \\n本手冊以下列圖示來表示特別重要的資訊:\\n警告:表示需特別注意,否則可能導致人身傷害或機件損壞。 注意:表示使用時需加留意之處。  \\nGogoro **服務中心設定功能:表示必須由** Gogoro **服務中心之技術人員或** Gogoro **所指定之人員調**\\n整或啟**閉的功能。**\\n請參閱**本手冊其他章節。**', metadata={'#': 'Gogoro Jego', '##': '1. **在您上路之前**', '###': '1.1 **如何使用本手冊**'}),\n",
       " Document(page_content='### 1.2 **安全提醒**\\n###### 4  \\n具備優越性能的 Smartscooter® **智慧電動機車,更需要正確的騎乘與操控。為確保自身與他**\\n人的安全,請務必遵行下列事宜:\\n若您服用可能影響騎乘能力之藥物、飲酒,或身心狀態不佳時,請勿騎乘上路。  \\n請遵守交通法規及交通號誌,隨時確認週遭路況及車況,以主動迴避危險。  \\n4 務必配戴合乎法規之安全裝備,例如安全帽,必要時穿戴適當防護衣物,如手套及靴子。  \\n每次上路前進行基本檢測,確認燈光、煞車、胎紋、胎壓及各部位有無鬆動異音等,並定期回 Gogoro **服務中心進行保養。**\\n進行日常檢查**與維護時,務必確認馬達為關閉狀態。** 潮溼**的平交道鐵軌、橋樑伸縮縫、人孔蓋、水溝蓋,及路面上的各種標線、標誌,會變得非常滑溜,**\\n因此在通過這些區域時,請減速慢行,並保持車身直立小心通過。 要在濕滑路面上減速或停止時,請緩慢漸進地操作煞車,勿突然重煞以免輪胎鎖死。  \\n由於 Smartscooter® **智慧電動機車的扭力較傳統機車強大,故在雨天及濕滑路面行駛時,建議您**\\n啟**動智慧模式,起步時輕轉油門以免因扭力過大導致後輪打滑。**\\n在非常濕滑的路面,請避免將電能回充強度調到最大,以免制動力道過強,使後輪產**生打滑。**', metadata={'#': 'Gogoro Jego', '##': '1. **在您上路之前**', '###': '1.2 **安全提醒**'})]"
      ]
     },
     "execution_count": 7,
     "metadata": {},
     "output_type": "execute_result"
    }
   ],
   "source": [
    "# MD splits\n",
    "markdown_splitter = MarkdownHeaderTextSplitter(\n",
    "    headers_to_split_on=headers_to_split_on, \n",
    "    strip_headers=False\n",
    ")\n",
    "md_header_splits = markdown_splitter.split_text(markdown_document)\n",
    "\n",
    "md_header_splits[:5]"
   ]
  },
  {
   "cell_type": "code",
   "execution_count": 14,
   "metadata": {},
   "outputs": [
    {
     "data": {
      "text/plain": [
       "[Document(page_content='發佈日期:2024.02.29 適用車款:\\nJEGO\\niQ System® 版本:6.8 以後 Gogoro® App 版本:3.3 以後 製造商:睿能創意股份有限公司 地址:桃園市龜山區頂湖路 33 號 電話:03-273-0900 **客服中心電話:**0800-365-996 Copyright© 2021 睿能創意股份有限公司 **著作權所有,並保留一切權利。本車主手冊中任何部分未經睿能創意股份有限公司**\\n事前書面同意,不得以任何形式轉載、複製或拷貝。', metadata={'#': 'Gogoro Jego'}),\n",
       " Document(page_content='| 目錄  |  |\\n|--------------------------------------------------|----|\\n| 1. 在您上路之前  | 3  |\\n| 1.1 如何使用本手冊  | 3  |\\n| 1.2 安全提醒  | 4  |\\n| 1.3 每次騎乘前應檢查項目  | 5  |\\n| 2. 認識您的 Smartscooter® 智慧電動機車  | 6  |\\n| 2.1 JEGO 系列各部位名稱  | 6  |\\n| 2.2 左把手  | 7  |\\n| 2.3 儀表板  | 8  |\\n| 3. 準備上路  | 9  |\\n| 3.1 開啟系統電源並解鎖龍頭  | 9  |\\n| 3.2 關閉系統電源並上鎖龍頭  | 9  |\\n| 3.3 開啟座墊下置物箱  | 9  |\\n| 4. 上路騎乘  | 9  |\\n| 4.1 取車及架車  | 10 |\\n| 4.2 啟動及關閉馬達  | 11 |\\n| 4.2.1 啟動馬達  | 11 |\\n| 4.2.2 關閉馬達  | 11 |\\n| 4.3 前進及後退  | 12 |\\n| 4.3.1 電子油門  | 12 |\\n| 4.3.2 電子倒車油門  | 12 |\\n| 4.4 減速及停止  | 13 |\\n| 4.4.1 SBS 同步煞車系統  | 13 |\\n| 4.5 低電量模式  | 13 |\\n| 5. 補充電力  | 14 |\\n| 5.1 在 GoStation® 電池交換站交換電池  | 14 |\\n| 5.1.1 用 Gogoro® App 尋找站點  | 14 |\\n| 5.1.2 用 GoStation® 電池交換站的螢幕尋找其他站點 | 15 |\\n| 5.1.3 交換電池  | 16 |\\n| 5.1.4 身心障礙電池交換服務  | 18 |\\n| 6. 保養維護  | 19 |\\n| 6.1 日常清潔與維護  | 19 |\\n| 6.2 JEGO 系列定期檢查與保養週期  | 20 |\\n| 6.3 服務據點  | 20 |\\n| 7. 附錄:其他依法令應聲明事項  | 21 |\\n| 7.1 NCC 國家通訊傳播委員會  | 21 |\\n| 7.2 行政院環保署  | 21 |\\n| 7.3 經濟部能源局  | 21 |  2', metadata={'#': 'Gogoro Jego', '##': '目錄', 'page': 2}),\n",
       " Document(page_content='歡迎加入 Gogoro **車主的行列!我們將帶領您正確與安全地使用** Smartscooter® **智慧電動機**\\n車的每個功能。為了確保您的行車安全,騎乘前請務必詳細閱**讀本手冊,並確認自己隨時符合** 下列要件:\\n- **持有政府所核發且仍有效的本車種駕駛執照。**\\n- **具備安全及正確的騎乘技巧及生理及心理狀況。**\\n- **完全了解** Smartscooter® **智慧電動機車的操作方法及應變措施。**\\n- 完全了解本手冊的各項資訊,包括但不限於相關說**明、注意事項及警告資訊等。**\\n任何操作與保養的問題,請洽 Gogoro **客服中心(**0800-365-996**)。祝您擁有安全愉快的騎乘**\\n體驗!', metadata={'#': 'Gogoro Jego', '##': '1. **在您上路之前**', 'page': 3}),\n",
       " Document(page_content='本手冊以下列圖示來表示特別重要的資訊:\\n警告:表示需特別注意,否則可能導致人身傷害或機件損壞。 注意:表示使用時需加留意之處。  Gogoro **服務中心設定功能:表示必須由** Gogoro **服務中心之技術人員或** Gogoro **所指定之人員調**\\n整或啟**閉的功能。**\\n請參閱**本手冊其他章節。**', metadata={'#': 'Gogoro Jego', '##': '1. **在您上路之前**', '###': '1.1 **如何使用本手冊**', 'page': 3}),\n",
       " Document(page_content='具備優越性能的 Smartscooter® **智慧電動機車,更需要正確的騎乘與操控。為確保自身與他**\\n人的安全,請務必遵行下列事宜:\\n若您服用可能影響騎乘能力之藥物、飲酒,或身心狀態不佳時,請勿騎乘上路。  請遵守交通法規及交通號誌,隨時確認週遭路況及車況,以主動迴避危險。  4 務必配戴合乎法規之安全裝備,例如安全帽,必要時穿戴適當防護衣物,如手套及靴子。  每次上路前進行基本檢測,確認燈光、煞車、胎紋、胎壓及各部位有無鬆動異音等,並定期回 Gogoro **服務中心進行保養。**\\n進行日常檢查**與維護時,務必確認馬達為關閉狀態。** 潮溼**的平交道鐵軌、橋樑伸縮縫、人孔蓋、水溝蓋,及路面上的各種標線、標誌,會變得非常滑溜,**\\n因此在通過這些區域時,請減速慢行,並保持車身直立小心通過。 要在濕滑路面上減速或停止時,請緩慢漸進地操作煞車,勿突然重煞以免輪胎鎖死。  由於 Smartscooter® **智慧電動機車的扭力較傳統機車強大,故在雨天及濕滑路面行駛時,建議您**\\n啟**動智慧模式,起步時輕轉油門以免因扭力過大導致後輪打滑。**\\n在非常濕滑的路面,請避免將電能回充強度調到最大,以免制動力道過強,使後輪產**生打滑。**', metadata={'#': 'Gogoro Jego', '##': '1. **在您上路之前**', '###': '1.2 **安全提醒**', 'page': 4})]"
      ]
     },
     "execution_count": 14,
     "metadata": {},
     "output_type": "execute_result"
    }
   ],
   "source": [
    "import re\n",
    "from langchain.schema import Document\n",
    "\n",
    "def clean_context(text):\n",
    "    text = re.sub(r'\\s{2,}', '  ', text)  # Replace multiple spaces with two spaces\n",
    "    return text\n",
    "\n",
    "def extract_page_metadata(text):\n",
    "    page_metadata = None\n",
    "    cleaned_lines = []\n",
    "    page_pattern = re.compile(r'^###### (\\d+)')\n",
    "    header_pattern = re.compile(r'^(#{1,5}) ')\n",
    "\n",
    "    for line in text.split('\\n'):\n",
    "        match = page_pattern.match(line)\n",
    "        if match:\n",
    "            page_metadata = int(match.group(1))\n",
    "        elif not header_pattern.match(line):\n",
    "            cleaned_lines.append(line)\n",
    "\n",
    "    cleaned_text = '\\n'.join(cleaned_lines)\n",
    "    return cleaned_text, page_metadata\n",
    "\n",
    "# Function to replace image paths in the content\n",
    "def replace_image_paths(text):\n",
    "    new_text = re.sub(r'!\\[(.*?)\\]\\((.*?)\\)', rf'![\\1](images/{car_model}/\\2)', text)\n",
    "    return new_text\n",
    "\n",
    "processed_splits = []\n",
    "for doc in md_header_splits:\n",
    "    content, page_metadata = extract_page_metadata(doc.page_content)\n",
    "\n",
    "    content = replace_image_paths(content)\n",
    "\n",
    "    cleaned_content = clean_context(content)\n",
    "\n",
    "    new_metadata = doc.metadata.copy()\n",
    "    # new_metadata['car_model'] = car_model\n",
    "    if page_metadata:\n",
    "        new_metadata['page'] = page_metadata\n",
    "\n",
    "    processed_splits.append(Document(page_content=cleaned_content, metadata=new_metadata))\n",
    "processed_splits[:5]"
   ]
  },
  {
   "cell_type": "code",
   "execution_count": 15,
   "metadata": {},
   "outputs": [
    {
     "data": {
      "text/plain": [
       "[Document(page_content='發佈日期:2024.02.29 適用車款:\\nJEGO\\niQ System® 版本:6.8 以後 Gogoro® App 版本:3.3 以後 製造商:睿能創意股份有限公司 地址:桃園市龜山區頂湖路 33 號 電話:03-273-0900 **客服中心電話:**0800-365-996 Copyright© 2021 睿能創意股份有限公司 **著作權所有,並保留一切權利。本車主手冊中任何部分未經睿能創意股份有限公司**\\n事前書面同意,不得以任何形式轉載、複製或拷貝。', metadata={'#': 'Gogoro Jego'}),\n",
       " Document(page_content='| 目錄  |  |\\n|--------------------------------------------------|----|\\n| 1. 在您上路之前  | 3  |\\n| 1.1 如何使用本手冊  | 3  |\\n| 1.2 安全提醒  | 4  |\\n| 1.3 每次騎乘前應檢查項目  | 5  |\\n| 2. 認識您的 Smartscooter® 智慧電動機車  | 6  |\\n| 2.1 JEGO 系列各部位名稱  | 6  |\\n| 2.2 左把手  | 7  |\\n| 2.3 儀表板  | 8  |\\n| 3. 準備上路  | 9  |\\n| 3.1 開啟系統電源並解鎖龍頭  | 9  |\\n| 3.2 關閉系統電源並上鎖龍頭  | 9  |\\n| 3.3 開啟座墊下置物箱  | 9  |\\n| 4. 上路騎乘  | 9  |\\n| 4.1 取車及架車  | 10 |', metadata={'#': 'Gogoro Jego', '##': '目錄', 'page': 2}),\n",
       " Document(page_content='| 4. 上路騎乘  | 9  |\\n| 4.1 取車及架車  | 10 |\\n| 4.2 啟動及關閉馬達  | 11 |\\n| 4.2.1 啟動馬達  | 11 |\\n| 4.2.2 關閉馬達  | 11 |\\n| 4.3 前進及後退  | 12 |\\n| 4.3.1 電子油門  | 12 |\\n| 4.3.2 電子倒車油門  | 12 |\\n| 4.4 減速及停止  | 13 |\\n| 4.4.1 SBS 同步煞車系統  | 13 |\\n| 4.5 低電量模式  | 13 |\\n| 5. 補充電力  | 14 |\\n| 5.1 在 GoStation® 電池交換站交換電池  | 14 |\\n| 5.1.1 用 Gogoro® App 尋找站點  | 14 |\\n| 5.1.2 用 GoStation® 電池交換站的螢幕尋找其他站點 | 15 |\\n| 5.1.3 交換電池  | 16 |', metadata={'#': 'Gogoro Jego', '##': '目錄', 'page': 2}),\n",
       " Document(page_content='| 5.1.3 交換電池  | 16 |\\n| 5.1.4 身心障礙電池交換服務  | 18 |\\n| 6. 保養維護  | 19 |\\n| 6.1 日常清潔與維護  | 19 |\\n| 6.2 JEGO 系列定期檢查與保養週期  | 20 |\\n| 6.3 服務據點  | 20 |\\n| 7. 附錄:其他依法令應聲明事項  | 21 |\\n| 7.1 NCC 國家通訊傳播委員會  | 21 |\\n| 7.2 行政院環保署  | 21 |\\n| 7.3 經濟部能源局  | 21 |  2', metadata={'#': 'Gogoro Jego', '##': '目錄', 'page': 2}),\n",
       " Document(page_content='歡迎加入 Gogoro **車主的行列!我們將帶領您正確與安全地使用** Smartscooter® **智慧電動機**\\n車的每個功能。為了確保您的行車安全,騎乘前請務必詳細閱**讀本手冊,並確認自己隨時符合** 下列要件:\\n- **持有政府所核發且仍有效的本車種駕駛執照。**\\n- **具備安全及正確的騎乘技巧及生理及心理狀況。**\\n- **完全了解** Smartscooter® **智慧電動機車的操作方法及應變措施。**\\n- 完全了解本手冊的各項資訊,包括但不限於相關說**明、注意事項及警告資訊等。**\\n任何操作與保養的問題,請洽 Gogoro **客服中心(**0800-365-996**)。祝您擁有安全愉快的騎乘**\\n體驗!', metadata={'#': 'Gogoro Jego', '##': '1. **在您上路之前**', 'page': 3})]"
      ]
     },
     "execution_count": 15,
     "metadata": {},
     "output_type": "execute_result"
    }
   ],
   "source": [
    "from langchain_text_splitters import RecursiveCharacterTextSplitter\n",
    "\n",
    "chunk_size = 400\n",
    "chunk_overlap = 50\n",
    "text_splitter = RecursiveCharacterTextSplitter(\n",
    "    chunk_size=chunk_size, chunk_overlap=chunk_overlap\n",
    ")\n",
    "\n",
    "splits = text_splitter.split_documents(processed_splits)\n",
    "splits[:5]"
   ]
  },
  {
   "cell_type": "code",
   "execution_count": 16,
   "metadata": {},
   "outputs": [],
   "source": [
    "output_dir = OUTPUT_DIR / car_model\n",
    "os.makedirs(output_dir, exist_ok=True)\n",
    "\n",
    "for i, doc in enumerate(splits):\n",
    "    header_data = []\n",
    "    for header, value in doc.metadata.items():\n",
    "        # if header in ['#', '##', '###', '####', '#####']:\n",
    "        if re.match(r'#+$', header):\n",
    "            header_data.append(f\"{header} {value}\")\n",
    "        else:\n",
    "            header_data.append(f\"<{header}>{value}</{header}>\")\n",
    "    combined_content = \"\\n\".join(header_data)\n",
    "    combined_content += \"\\n\" + doc.page_content\n",
    "\n",
    "    with open(os.path.join(output_dir, f\"split_{i}.txt\"), \"w\", encoding=\"utf-8\") as f:\n",
    "        f.write(combined_content)\n",
    "    \n",
    "    metadata = doc.metadata.copy()\n",
    "    metadata[\"car_model\"] = car_model.upper()\n",
    "    metadata = {\"metadataAttributes\": metadata}\n",
    "    \n",
    "    with open(os.path.join(output_dir, f\"split_{i}.txt.metadata.json\"), \"w\", encoding=\"utf-8\") as f:\n",
    "        \n",
    "        json.dump(metadata, f, indent=2, ensure_ascii=False)"
   ]
  },
  {
   "cell_type": "code",
   "execution_count": null,
   "metadata": {},
   "outputs": [],
   "source": []
  }
 ],
 "metadata": {
  "kernelspec": {
   "display_name": "aws_boto3",
   "language": "python",
   "name": "python3"
  },
  "language_info": {
   "codemirror_mode": {
    "name": "ipython",
    "version": 3
   },
   "file_extension": ".py",
   "mimetype": "text/x-python",
   "name": "python",
   "nbconvert_exporter": "python",
   "pygments_lexer": "ipython3",
   "version": "3.10.13"
  }
 },
 "nbformat": 4,
 "nbformat_minor": 2
}
